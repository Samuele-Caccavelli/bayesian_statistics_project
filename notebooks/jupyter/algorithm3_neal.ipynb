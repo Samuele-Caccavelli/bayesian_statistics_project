{
 "cells": [
  {
   "cell_type": "markdown",
   "metadata": {},
   "source": [
    "# Algorithm 3 from Neal (2000)\n",
    "\n",
    "Implementation of the algorithm 3 form Neal (2000). With a Normal-Inverse-Wishart prior. The computation of the integral is obtained from Murphy (2007) (https://www.cs.ubc.ca/~murphyk/Papers/bayesGauss.pdf)."
   ]
  },
  {
   "cell_type": "code",
   "execution_count": 1,
   "metadata": {},
   "outputs": [],
   "source": [
    "import numpy as np\n",
    "import matplotlib.pyplot as plt\n",
    "from scipy.stats import multivariate_t\n",
    "import random\n",
    "import copy"
   ]
  },
  {
   "cell_type": "markdown",
   "metadata": {},
   "source": [
    "## 1. Functions for our assumptions\n",
    "\n",
    "Define function to compute likelihood of some observation belonging to a given cluster given our assumptions"
   ]
  },
  {
   "cell_type": "code",
   "execution_count": 2,
   "metadata": {},
   "outputs": [],
   "source": [
    "\n",
    "# These functions change based on assumption on the prior parameters of the model\n",
    "def compute_mu_0(Y):\n",
    "    return np.mean(Y, axis=0)   # default to mean of data, reasonable assumption\n",
    "\n",
    "def compute_nu_0(D):\n",
    "    return D    # default to D, potentially change this\n",
    "\n",
    "def compute_inv_scale_mat_0(D):\n",
    "    return np.eye(D)    # default to identity, potentially change this\n",
    "\n",
    "def compute_lamb_0(Y):\n",
    "    return 1    # default to 1, potentially change this\n",
    "\n",
    "\n",
    "def integral_func_1(Y, cluster, i):\n",
    "    \"\"\"\n",
    "    Compute the first integral using student_t distribution based on Murphy (2007) parameters\n",
    "    \"\"\"\n",
    "    D = len(Y[0])\n",
    "    mu_0 = compute_mu_0(Y)\n",
    "    lamb_0 = compute_lamb_0(Y)\n",
    "    nu_0 = compute_nu_0(D)\n",
    "    inv_scale_mat_0 = compute_inv_scale_mat_0(D)\n",
    "    n = len(cluster)    # number of element currently in cluster (used n to be consistent with Murphy (2007) notation)\n",
    "    \n",
    "    cluster_Y = Y[np.isin(np.arange(len(Y)),cluster)]\n",
    "    cluster_mean = np.mean(cluster_Y, axis=0)\n",
    "\n",
    "    # based on Murphy (2007). These should not be changed\n",
    "    mu_n = (lamb_0 * mu_0 + n * cluster_mean) / (lamb_0 + n)\n",
    "    lamb_n = lamb_0 + n\n",
    "    nu_n = nu_0 + n\n",
    "    \n",
    "     # compute scatter matrix\n",
    "    S = np.zeros((D,D))\n",
    "    for j in range(n):\n",
    "        temp = Y[j] - cluster_mean\n",
    "        S += np.outer(temp, temp)\n",
    "    temp = cluster_mean - mu_0\n",
    "    inv_scale_mat_n = inv_scale_mat_0 + S + ((lamb_0 * n) / (lamb_0 + n)) * np.outer(temp, temp)\n",
    "\n",
    "    # Computes integral using pdf of student t\n",
    "    student_df = nu_n - D + 1\n",
    "    integral = multivariate_t.pdf(Y[i],\n",
    "                                  mu_n,\n",
    "                                  inv_scale_mat_n * ((lamb_n+1) / (lamb_n * student_df)),\n",
    "                                  student_df)\n",
    "    return integral\n",
    "\n",
    "def integral_func_2(Y, i):\n",
    "    \"\"\"\n",
    "    Computes the second integral using student_t distribution based on Murphy (2007) parameters.\n",
    "    \"\"\"\n",
    "    D = len(Y[0])\n",
    "    mu_0 = compute_mu_0(Y)\n",
    "    lamb_0 = compute_lamb_0(Y)\n",
    "    nu_0 = compute_nu_0(D)\n",
    "    inv_scale_mat_0 = compute_inv_scale_mat_0(D)\n",
    "    student_df = nu_0 - D + 1\n",
    "    # Computes integral using pdf of student t\n",
    "    integral = multivariate_t.pdf(Y[i],\n",
    "                                  mu_0,\n",
    "                                  inv_scale_mat_0 * ((lamb_0 + 1) / (lamb_0 * student_df)),\n",
    "                                  student_df)\n",
    "    return integral"
   ]
  },
  {
   "cell_type": "markdown",
   "metadata": {},
   "source": [
    "## 2. Functions for Algorithm 3"
   ]
  },
  {
   "cell_type": "code",
   "execution_count": 3,
   "metadata": {},
   "outputs": [],
   "source": [
    "\n",
    "\n",
    "def cluster_probabilities(i, clusters, Y, integral_func_1, integral_func_2, alpha):\n",
    "    \"\"\"\n",
    "    Computes the probabilities of observation i joining each clusters or creating a new one. The output is not sctictly probabilities but weights.\n",
    "    \"\"\"\n",
    "    n = len(Y)\n",
    "    n_clusters = len(clusters)\n",
    "    probabilities = np.zeros(n_clusters+1)\n",
    "\n",
    "    # probabilities of joining existing cluster\n",
    "    for c in range(n_clusters):\n",
    "        probabilities[c] = integral_func_1(Y, clusters[c], i)\n",
    "        probabilities[c] *= (len(clusters[c]) / (n - 1 + alpha))\n",
    "\n",
    "    # probability of creating new cluster\n",
    "    probabilities[-1] = integral_func_2(Y, i)\n",
    "    probabilities[-1] *= alpha / (n - 1 + alpha)\n",
    "\n",
    "    return probabilities\n",
    "\n",
    "def algorithm_3(n_steps, Y, integral_func_1, integral_func_2, alpha=1):\n",
    "    \"\"\"\n",
    "    Performs a markov chain using algorithm 3 from Neal (2000). \n",
    "\n",
    "    Args:\n",
    "        n_steps: int, number of step of the markov chain to do (one step is defined as randomly moving each observation 1 time)\n",
    "        Y: 2D array, of observations. Each observation is a vetor of size D. So Y is of shape (n_observation, D)\n",
    "        integral_func_1: function to compute the first integral in (3.7). Takes as argument the current observations in a cluster and the new observation.\n",
    "        integral_func_2: function to compute the second integral in (3.7). Takes as argument the only observation of the new cluster\n",
    "        alpha: float, concentration parameter. alpha > 0\n",
    "    \"\"\"\n",
    "    D = len(Y[0])\n",
    "    n_obs = len(Y)\n",
    "\n",
    "    clusters = [[i] for i in range(n_obs)]\n",
    "    print(clusters)\n",
    "\n",
    "    history = [copy.deepcopy(clusters)]\n",
    "\n",
    "    for step in range(n_steps): # Markov chain\n",
    "        for i in range(n_obs): # 1 step of the markov chain\n",
    "            # 1. Find in which cluster the observation is\n",
    "            c = 0\n",
    "            for index in range(len(clusters)): # one step \n",
    "                if i in clusters[index]:\n",
    "                    c = index\n",
    "                    break\n",
    "            # 2. Remove observation i from clusters:\n",
    "            if len(clusters[c]) == 1: # case 1 : i is only element of cluster -> remove cluster\n",
    "                del clusters[c]\n",
    "\n",
    "            else: # case 2 : cluster has more than 1 element -> remove i from cluster\n",
    "                clusters[c].remove(i)\n",
    "\n",
    "            # 3. Compute probabilities of adding i to each cluster\n",
    "            weights = cluster_probabilities(i, clusters, Y, integral_func_1, integral_func_2, alpha)\n",
    "            transitions = list(range(len(weights)))\n",
    "            transition = random.choices(transitions, weights=weights)[0]\n",
    "\n",
    "            # 4. Apply transition \n",
    "            if transition == len(clusters): # add new cluster\n",
    "                clusters.append([i])\n",
    "            else:\n",
    "                clusters[transition].append(i)\n",
    "        # all elements have moved once -> one step of the markov chain\n",
    "        history.append(copy.deepcopy(clusters))\n",
    "        \n",
    "    return history"
   ]
  },
  {
   "cell_type": "markdown",
   "metadata": {},
   "source": [
    "## 3. Test with synthetic data"
   ]
  },
  {
   "cell_type": "markdown",
   "metadata": {},
   "source": [
    "Generate and visualize synthethic data"
   ]
  },
  {
   "cell_type": "code",
   "execution_count": 4,
   "metadata": {},
   "outputs": [
    {
     "data": {
      "image/png": "[encoded data removed]",
      "text/plain": [
       "<Figure size 432x288 with 1 Axes>"
      ]
     },
     "metadata": {
      "needs_background": "light"
     },
     "output_type": "display_data"
    }
   ],
   "source": [
    "# Sample syntethic\n",
    "np.random.seed(42)  # for reproducibility\n",
    "random.seed(42)\n",
    "\n",
    "mean1 = [2, 2]\n",
    "cov1 = np.eye(2)\n",
    "data1 = np.random.multivariate_normal(mean1, cov1, size=10)\n",
    "\n",
    "mean2 = [-3, -3]\n",
    "cov2 = np.eye(2)  # Matrice identità (covarianza)\n",
    "data2 = np.random.multivariate_normal(mean2, cov2, size=10)\n",
    "\n",
    "data = np.vstack((data1, data2))\n",
    "\n",
    "import matplotlib.pyplot as plt\n",
    "\n",
    "plt.scatter(data1[:, 0], data1[:, 1], label=\"Cluster 1 (2, 2)\", color=\"blue\")\n",
    "plt.scatter(data2[:, 0], data2[:, 1], label=\"Cluster 2 (-3, -3)\", color=\"red\")\n",
    "plt.legend()\n",
    "plt.title(\"Synthetic data\")\n",
    "plt.xlabel(\"X1\")\n",
    "plt.ylabel(\"X2\")\n",
    "plt.grid()\n",
    "plt.show()\n"
   ]
  },
  {
   "cell_type": "markdown",
   "metadata": {},
   "source": [
    "Apply algorithm 3 on synthetic data and visualize result"
   ]
  },
  {
   "cell_type": "code",
   "execution_count": 27,
   "metadata": {},
   "outputs": [
    {
     "name": "stdout",
     "output_type": "stream",
     "text": [
      "[[0], [1], [2], [3], [4], [5], [6], [7], [8], [9], [10], [11], [12], [13], [14], [15], [16], [17], [18], [19]]\n"
     ]
    }
   ],
   "source": [
    "# these can be modified\n",
    "n_steps = 500\n",
    "alpha = 10\n",
    "history = algorithm_3(n_steps, \n",
    "                      data, \n",
    "                      integral_func_1, \n",
    "                      integral_func_2,\n",
    "                      alpha=alpha)\n",
    "clusters = history[-1]\n"
   ]
  },
  {
   "cell_type": "code",
   "execution_count": 28,
   "metadata": {},
   "outputs": [
    {
     "data": {
      "image/png": "[encoded data removed]",
      "text/plain": [
       "<Figure size 576x432 with 1 Axes>"
      ]
     },
     "metadata": {
      "needs_background": "light"
     },
     "output_type": "display_data"
    }
   ],
   "source": [
    "colors = plt.cm.rainbow(np.linspace(0, 1, len(clusters)))\n",
    "\n",
    "plt.figure(figsize=(8, 6)) \n",
    "\n",
    "for cluster_id, observations in enumerate(clusters):\n",
    "    cluster_data = data[observations]\n",
    "    plt.scatter(cluster_data[:, 0], cluster_data[:, 1], label=f\"Cluster {cluster_id}\", color=colors[cluster_id])\n",
    "plt.title(\"Result of Gibbs Sampler\")\n",
    "plt.xlabel(\"X1\")\n",
    "plt.ylabel(\"X2\")\n",
    "plt.legend()\n",
    "plt.grid()\n",
    "plt.show()"
   ]
  }
 ],
 "metadata": {
  "kernelspec": {
   "display_name": "base",
   "language": "python",
   "name": "python3"
  },
  "language_info": {
   "codemirror_mode": {
    "name": "ipython",
    "version": 3
   },
   "file_extension": ".py",
   "mimetype": "text/x-python",
   "name": "python",
   "nbconvert_exporter": "python",
   "pygments_lexer": "ipython3",
   "version": "3.8.5"
  }
 },
 "nbformat": 4,
 "nbformat_minor": 2
}
