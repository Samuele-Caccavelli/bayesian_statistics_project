{
 "cells": [
  {
   "cell_type": "code",
   "execution_count": 1,
   "metadata": {},
   "outputs": [],
   "source": [
    "import numpy as np\n",
    "import matplotlib.pyplot as plt\n",
    "import seaborn as sns\n",
    "from scipy.stats import entropy\n",
    "import random\n",
    "import copy\n",
    "from tqdm import tqdm\n",
    "import pickle\n",
    "from datetime import datetime"
   ]
  },
  {
   "cell_type": "code",
   "execution_count": null,
   "metadata": {},
   "outputs": [],
   "source": [
    "import sys, os\n",
    "sys.path.insert(0, os.path.dirname(os.path.abspath('../../main_code')))\n",
    "from main_code.neal_algorithm_3 import algorithm_3, save_data, load_data\n",
    "from main_code.partitions_analysis import *\n",
    "from main_code.data_generation import generate_gaussian_mixture\n",
    "from main_code.visualization import *\n",
    "from main_code.integrals_without_covariates import *"
   ]
  },
  {
   "cell_type": "markdown",
   "metadata": {},
   "source": [
    "# ASSUMPTION:\n",
    "compute_lamb_0 definisce uno degli hyperpatamemtri da cambiare "
   ]
  },
  {
   "cell_type": "code",
   "execution_count": 3,
   "metadata": {},
   "outputs": [],
   "source": [
    "# These functions change based on assumption on the prior parameters of the model\n",
    "def compute_mu_0(Y):\n",
    "    return np.mean(Y, axis=0)   # default to mean of data, reasonable assumption\n",
    "\n",
    "def compute_nu_0(D):\n",
    "    #! changed to D+3 from D+1 as suggested in last meeting\n",
    "    return D + 3    # default to D, potentially change this\n",
    "\n",
    "def compute_inv_scale_mat_0(D):\n",
    "    return np.eye(D)    # default to identity, potentially change this\n",
    "\n",
    "def compute_lamb_0(Y):\n",
    "    #! changed to a value smaller then 1 as suggested in last meeting\n",
    "    return 0.75    # default to 1, potentially change this"
   ]
  },
  {
   "cell_type": "markdown",
   "metadata": {},
   "source": [
    "# SYNTHETIC DATA"
   ]
  },
  {
   "cell_type": "code",
   "execution_count": null,
   "metadata": {},
   "outputs": [],
   "source": [
    "# Sample syntethic\n",
    "np.random.seed(42)  # for reproducibility\n",
    "random.seed(42)\n",
    "\n",
    "# Y\n",
    "means = [[0, 0], [2, -5], [-5, -5]]\n",
    "covariances = [np.eye(2), 2 * np.eye(2), 0.5 * np.eye(2)]\n",
    "n_samples = [50, 50, 50]\n",
    "\n",
    "Y, labels = generate_gaussian_mixture(means, covariances, n_samples)\n",
    "\n",
    "plot_clusters(Y, labels, \"Synthetic Data from a Mixture of Gaussians\")\n",
    "\n",
    "\n",
    "# X\n",
    "means_X = [[0, 0], [-10, -10], [10, 10]]\n",
    "covariances_X = [0.5 * np.eye(2), 0.5 * np.eye(2), 0.5 * np.eye(2)]\n",
    "\n",
    "X, _ = generate_gaussian_mixture(means_X, covariances_X, n_samples)\n",
    "\n",
    "plot_clusters(X, labels, \"Synthetic Covariates from a Mixture of Gaussians\")"
   ]
  },
  {
   "cell_type": "markdown",
   "metadata": {},
   "source": [
    "# Simulazione\n",
    "alpha è uno degli hyperparametri da cambiare."
   ]
  },
  {
   "cell_type": "code",
   "execution_count": null,
   "metadata": {},
   "outputs": [],
   "source": [
    "n_steps = 6000\n",
    "burn_in = 1000\n",
    "alpha = 1"
   ]
  },
  {
   "cell_type": "code",
   "execution_count": null,
   "metadata": {},
   "outputs": [],
   "source": [
    "# Trying our clustering algorithm without covariates\n",
    "history, entropies = algorithm_3(n_steps,\n",
    "                      Y,\n",
    "                      X,\n",
    "                      integral_func_1,\n",
    "                      integral_func_2,\n",
    "                      alpha=alpha,\n",
    "                      compute_nu_0=compute_nu_0,\n",
    "                      compute_lamb_0=compute_lamb_0,\n",
    "                      visualize_entropy=True,\n",
    "                      lambda_penalty=0.0)\n",
    "\n",
    "S = sampled_sim_matrix(history[burn_in:], len(Y))\n",
    "\n",
    "optimal_clustering, optimal_loss = find_optimal_clustering_binder_loss(history[burn_in:], S, alpha=1.0, beta=1.0)\n",
    "\n",
    "print(\"The loss is equal to: \", optimal_loss)\n",
    "\n",
    "plot_clusters(Y, optimal_clustering, \"Result of Posterior Point Estimate\")"
   ]
  }
 ],
 "metadata": {
  "kernelspec": {
   "display_name": "Python 3",
   "language": "python",
   "name": "python3"
  },
  "language_info": {
   "codemirror_mode": {
    "name": "ipython",
    "version": 3
   },
   "file_extension": ".py",
   "mimetype": "text/x-python",
   "name": "python",
   "nbconvert_exporter": "python",
   "pygments_lexer": "ipython3",
   "version": "3.7.4"
  }
 },
 "nbformat": 4,
 "nbformat_minor": 2
}
